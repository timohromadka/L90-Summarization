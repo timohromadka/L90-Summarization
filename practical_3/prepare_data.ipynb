{
 "cells": [
  {
   "cell_type": "code",
   "execution_count": 1,
   "metadata": {},
   "outputs": [
    {
     "name": "stderr",
     "output_type": "stream",
     "text": [
      "/home/timoh/L90-Summarization/summarizer_venv/lib/python3.10/site-packages/tqdm/auto.py:21: TqdmWarning: IProgress not found. Please update jupyter and ipywidgets. See https://ipywidgets.readthedocs.io/en/stable/user_install.html\n",
      "  from .autonotebook import tqdm as notebook_tqdm\n"
     ]
    }
   ],
   "source": [
    "from datasets import load_dataset"
   ]
  },
  {
   "cell_type": "code",
   "execution_count": 2,
   "metadata": {},
   "outputs": [
    {
     "name": "stderr",
     "output_type": "stream",
     "text": [
      "Downloading builder script: 100%|██████████| 8.33k/8.33k [00:00<00:00, 17.8MB/s]\n",
      "Downloading metadata: 100%|██████████| 9.88k/9.88k [00:00<00:00, 17.0MB/s]\n",
      "Downloading readme: 100%|██████████| 15.1k/15.1k [00:00<00:00, 24.5MB/s]\n",
      "Downloading data: 100%|██████████| 159M/159M [00:05<00:00, 28.9MB/s]\n",
      "Downloading data: 100%|██████████| 376M/376M [00:09<00:00, 39.4MB/s]]\n",
      "Downloading data: 46.4MB [00:00, 94.3MB/s]/5 [00:16<00:25,  8.48s/it]\n",
      "Downloading data: 2.43MB [00:00, 30.7MB/s]                  4.99s/it]\n",
      "Downloading data: 2.11MB [00:00, 43.9MB/s]                  3.20s/it]\n",
      "Downloading data files: 100%|██████████| 5/5 [00:17<00:00,  3.60s/it]\n",
      "Generating train split: 100%|██████████| 287113/287113 [00:44<00:00, 6429.33 examples/s]\n",
      "Generating validation split: 100%|██████████| 13368/13368 [00:22<00:00, 605.59 examples/s] \n",
      "Generating test split: 100%|██████████| 11490/11490 [00:21<00:00, 537.52 examples/s] \n"
     ]
    }
   ],
   "source": [
    "dataset = load_dataset('cnn_dailymail', '3.0.0')\n"
   ]
  },
  {
   "cell_type": "code",
   "execution_count": 3,
   "metadata": {},
   "outputs": [
    {
     "name": "stdout",
     "output_type": "stream",
     "text": [
      "Train Samples:\n",
      "\n",
      "Sample 1:\n",
      "Article: LONDON, England (Reuters) -- Harry Potter star Daniel Radcliffe gains access to a reported £20 million ($41.1 million) fortune as he turns 18 on Monday, but he insists the money won't cast a spell on him. Daniel Radcliffe as Harry Potter in \"Harry Potter and the Order of the Phoenix\" To the disappointment of gossip columnists around the world, the young actor says he has no plans to fritter his cash away on fast cars, drink and celebrity parties. \"I don't plan to be one of those people who, as s ...\n",
      "Highlights: Harry Potter star Daniel Radcliffe gets £20M fortune as he turns 18 Monday .\n",
      "Young actor says he has no plans to fritter his cash away .\n",
      "Radcliffe's earnings from first five Potter films have been held in trust fund . \n",
      "\n",
      "\n",
      "Sample 2:\n",
      "Article: Editor's note: In our Behind the Scenes series, CNN correspondents share their experiences in covering news and analyze the stories behind the events. Here, Soledad O'Brien takes users inside a jail where many of the inmates are mentally ill. An inmate housed on the \"forgotten floor,\" where many mentally ill inmates are housed in Miami before trial. MIAMI, Florida (CNN) -- The ninth floor of the Miami-Dade pretrial detention facility is dubbed the \"forgotten floor.\" Here, inmates with the most s ...\n",
      "Highlights: Mentally ill inmates in Miami are housed on the \"forgotten floor\"\n",
      "Judge Steven Leifman says most are there as a result of \"avoidable felonies\"\n",
      "While CNN tours facility, patient shouts: \"I am the son of the president\"\n",
      "Leifman says the system is unjust and he's fighting for change . \n",
      "\n",
      "\n",
      "Sample 3:\n",
      "Article: MINNEAPOLIS, Minnesota (CNN) -- Drivers who were on the Minneapolis bridge when it collapsed told harrowing tales of survival. \"The whole bridge from one side of the Mississippi to the other just completely gave way, fell all the way down,\" survivor Gary Babineau told CNN. \"I probably had a 30-, 35-foot free fall. And there's cars in the water, there's cars on fire. The whole bridge is down.\" He said his back was injured but he determined he could move around. \"I realized there was a school bus  ...\n",
      "Highlights: NEW: \"I thought I was going to die,\" driver says .\n",
      "Man says pickup truck was folded in half; he just has cut on face .\n",
      "Driver: \"I probably had a 30-, 35-foot free fall\"\n",
      "Minnesota bridge collapsed during rush hour Wednesday . \n",
      "\n",
      "\n",
      "Validation Samples:\n",
      "\n",
      "Sample 1:\n",
      "Article: (CNN)Share, and your gift will be multiplied. That may sound like an esoteric adage, but when Zully Broussard selflessly decided to give one of her kidneys to a stranger, her generosity paired up with big data. It resulted in six patients receiving transplants. That surprised and wowed her. \"I thought I was going to help this one person who I don't know, but the fact that so many people can have a life extension, that's pretty big,\" Broussard told CNN affiliate KGO. She may feel guided in her ge ...\n",
      "Highlights: Zully Broussard decided to give a kidney to a stranger .\n",
      "A new computer program helped her donation spur transplants for six kidney patients . \n",
      "\n",
      "\n",
      "Sample 2:\n",
      "Article: (CNN)On the 6th of April 1996, San Jose Clash and DC United strode out in front of 31,683 expectant fans at the Spartan Stadium in San Jose, California. The historic occasion was the first ever Major League Soccer match -- a brave new dawn for the world's favorite sport in a land its charms had yet to conquer. Summarizing the action for ESPN, commentator Ty Keough eagerly described the momentous \"birth of a new era for American soccer.\" Looking back at footage from that balmy evening now it's ha ...\n",
      "Highlights: The 20th MLS season begins this weekend .\n",
      "League has changed dramatically since its inception in 1996 .\n",
      "Some question whether rules regarding salary caps and transfers need to change . \n",
      "\n",
      "\n",
      "Sample 3:\n",
      "Article: (CNN)French striker Bafetimbi Gomis, who has a history of fainting, said he is now \"feeling well\" after collapsing during Swansea's 3-2 loss at Tottenham in the Premier League on Wednesday. The worrying incident occurred in the first half at White Hart Lane -- after Tottenham scored in the seventh minute -- but the 29-year-old left the pitch conscious following about five minutes of treatment. The Guardian added that he was wearing an oxygen mask. Play was temporarily stopped before resuming. As ...\n",
      "Highlights: Bafetimbi Gomis collapses within 10 minutes of kickoff at Tottenham .\n",
      "But he reportedly left the pitch conscious and wearing an oxygen mask .\n",
      "Gomis later said that he was \"feeling well\"\n",
      "The incident came three years after Fabrice Muamba collapsed at White Hart Lane . \n",
      "\n",
      "\n",
      "Test Samples:\n",
      "\n",
      "Sample 1:\n",
      "Article: (CNN)The Palestinian Authority officially became the 123rd member of the International Criminal Court on Wednesday, a step that gives the court jurisdiction over alleged crimes in Palestinian territories. The formal accession was marked with a ceremony at The Hague, in the Netherlands, where the court is based. The Palestinians signed the ICC's founding Rome Statute in January, when they also accepted its jurisdiction over alleged crimes committed \"in the occupied Palestinian territory, includin ...\n",
      "Highlights: Membership gives the ICC jurisdiction over alleged crimes committed in Palestinian territories since last June .\n",
      "Israel and the United States opposed the move, which could open the door to war crimes investigations against Israelis . \n",
      "\n",
      "\n",
      "Sample 2:\n",
      "Article: (CNN)Never mind cats having nine lives. A stray pooch in Washington State has used up at least three of her own after being hit by a car, apparently whacked on the head with a hammer in a misguided mercy killing and then buried in a field -- only to survive. That's according to Washington State University, where the dog -- a friendly white-and-black bully breed mix now named Theia -- has been receiving care at the Veterinary Teaching Hospital. Four days after her apparent death, the dog managed  ...\n",
      "Highlights: Theia, a bully breed mix, was apparently hit by a car, whacked with a hammer and buried in a field .\n",
      "\"She's a true miracle dog and she deserves a good life,\" says Sara Mellado, who is looking for a home for Theia . \n",
      "\n",
      "\n",
      "Sample 3:\n",
      "Article: (CNN)If you've been following the news lately, there are certain things you doubtless know about Mohammad Javad Zarif. He is, of course, the Iranian foreign minister. He has been U.S. Secretary of State John Kerry's opposite number in securing a breakthrough in nuclear discussions that could lead to an end to sanctions against Iran -- if the details can be worked out in the coming weeks. And he received a hero's welcome as he arrived in Iran on a sunny Friday morning. \"Long live Zarif,\" crowds c ...\n",
      "Highlights: Mohammad Javad Zarif has spent more time with John Kerry than any other foreign minister .\n",
      "He once participated in a takeover of the Iranian Consulate in San Francisco .\n",
      "The Iranian foreign minister tweets in English . \n",
      "\n",
      "\n",
      "Lengths of the splits:\n",
      "Train: 287113\n",
      "Validation: 13368\n",
      "Test: 11490\n"
     ]
    }
   ],
   "source": [
    "# Display a few samples from the dataset\n",
    "def display_samples(dataset_split, num_samples=3):\n",
    "    for i in range(num_samples):\n",
    "        print(f\"Sample {i+1}:\")\n",
    "        print(\"Article:\", dataset_split[i]['article'][:500], \"...\") # Display first 500 characters\n",
    "        print(\"Highlights:\", dataset_split[i]['highlights'], \"\\n\\n\")\n",
    "\n",
    "# Display samples from the train split\n",
    "print(\"Train Samples:\\n\")\n",
    "display_samples(dataset['train'])\n",
    "\n",
    "# Display samples from the validation split\n",
    "print(\"Validation Samples:\\n\")\n",
    "display_samples(dataset['validation'])\n",
    "\n",
    "# Display samples from the test split\n",
    "print(\"Test Samples:\\n\")\n",
    "display_samples(dataset['test'])\n",
    "\n",
    "# Print the length of each split\n",
    "print(\"Lengths of the splits:\")\n",
    "print(f\"Train: {len(dataset['train'])}\")\n",
    "print(f\"Validation: {len(dataset['validation'])}\")\n",
    "print(f\"Test: {len(dataset['test'])}\")\n"
   ]
  },
  {
   "cell_type": "code",
   "execution_count": 5,
   "metadata": {},
   "outputs": [
    {
     "name": "stdout",
     "output_type": "stream",
     "text": [
      "Training articles: 287113, Training summaries: 287113\n",
      "Validation articles: 13368, Validation summaries: 13368\n",
      "Test articles: 11490, Test summaries: 11490\n"
     ]
    }
   ],
   "source": [
    "# Function to extract articles and summaries\n",
    "def extract_texts(data_split):\n",
    "    articles = [item['article'] for item in data_split]\n",
    "    summaries = [item['highlights'] for item in data_split]\n",
    "    return articles, summaries\n",
    "\n",
    "# Extracting texts for train, validation, and test splits\n",
    "train_articles, train_summaries = extract_texts(dataset['train'])\n",
    "val_articles, val_summaries = extract_texts(dataset['validation'])\n",
    "test_articles, test_summaries = extract_texts(dataset['test'])\n",
    "\n",
    "# Print out the number of articles and summaries in each split to verify\n",
    "print(f\"Training articles: {len(train_articles)}, Training summaries: {len(train_summaries)}\")\n",
    "print(f\"Validation articles: {len(val_articles)}, Validation summaries: {len(val_summaries)}\")\n",
    "print(f\"Test articles: {len(test_articles)}, Test summaries: {len(test_summaries)}\")\n"
   ]
  },
  {
   "cell_type": "code",
   "execution_count": null,
   "metadata": {},
   "outputs": [],
   "source": []
  }
 ],
 "metadata": {
  "kernelspec": {
   "display_name": "summarizer_venv",
   "language": "python",
   "name": "python3"
  },
  "language_info": {
   "codemirror_mode": {
    "name": "ipython",
    "version": 3
   },
   "file_extension": ".py",
   "mimetype": "text/x-python",
   "name": "python",
   "nbconvert_exporter": "python",
   "pygments_lexer": "ipython3",
   "version": "3.10.12"
  }
 },
 "nbformat": 4,
 "nbformat_minor": 2
}
