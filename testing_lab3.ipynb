{
 "cells": [
  {
   "cell_type": "code",
   "execution_count": 2,
   "metadata": {},
   "outputs": [
    {
     "name": "stderr",
     "output_type": "stream",
     "text": [
      "/home/timoh/L90-Summarization/summarizer_venv/lib/python3.10/site-packages/tqdm/auto.py:21: TqdmWarning: IProgress not found. Please update jupyter and ipywidgets. See https://ipywidgets.readthedocs.io/en/stable/user_install.html\n",
      "  from .autonotebook import tqdm as notebook_tqdm\n"
     ]
    }
   ],
   "source": [
    "import numpy as np\n",
    "import json\n",
    "import tqdm\n",
    "\n",
    "%load_ext autoreload\n",
    "%autoreload 2\n",
    "from run_abstractive_summarizer import main\n",
    "from models.abstractive_summarizer import AbstractiveSummarizer"
   ]
  },
  {
   "cell_type": "code",
   "execution_count": 3,
   "metadata": {},
   "outputs": [],
   "source": [
    "import argparse\n",
    "import json\n",
    "\n",
    "from torchtext.datasets import WikiText2\n",
    "\n",
    "from models.abstractive_summarizer import AbstractiveSummarizer"
   ]
  },
  {
   "cell_type": "code",
   "execution_count": 4,
   "metadata": {},
   "outputs": [],
   "source": [
    "hparams = {\n",
    "    \"train_data\": \"data/train.json\",\n",
    "    \"validation_data\": \"data/validation.json\",\n",
    "    \"test_data\": \"data/test.json\",\n",
    "    'd_model': 512,\n",
    "    'nhead': 4,\n",
    "    'd_hid': 512,\n",
    "    'nlayers': 2,\n",
    "    'dropout': 0.1,\n",
    "    'tokenizer': 'wordpiece',\n",
    "    'learning_rate': 0.001,\n",
    "    'num_epochs': 10,\n",
    "    'grad_acc': 1,\n",
    "    'batch_size': 8\n",
    "}"
   ]
  },
  {
   "cell_type": "code",
   "execution_count": 5,
   "metadata": {},
   "outputs": [],
   "source": [
    "with open(hparams['train_data'], 'r') as f:\n",
    "    train_data = json.load(f)\n",
    "\n",
    "with open(hparams['validation_data'], 'r') as f:\n",
    "    validation_data = json.load(f)\n",
    "    \n",
    "with open(hparams['test_data'], 'r') as f:\n",
    "    test_data = json.load(f)\n",
    "\n",
    "\n",
    "train_articles = [article['article'] for article in train_data]\n",
    "train_summaries = [article['summary'] for article in train_data]\n",
    "\n",
    "val_articles = [article['article'] for article in validation_data]\n",
    "val_summaries = [article['summary'] for article in validation_data]\n",
    "\n",
    "test_articles = [article['article'] for article in test_data]\n",
    "test_summaries = [article['summary'] for article in test_data]\n"
   ]
  },
  {
   "cell_type": "code",
   "execution_count": 6,
   "metadata": {},
   "outputs": [
    {
     "data": {
      "text/plain": [
       "\"Mind-boggling statistic of the week. Yesterday marked 9,000 days since Liverpool were last crowned champions of England. They have since been dethroned by rivals Manchester United in terms of title victories and — when hostilities are resumed between the two at Old Trafford on Sunday — there will be an edge perhaps unique to the fixture. It may be almost 25 years since Liverpool last won the league but only months since they blew their big chance to put things right. As Liverpool edged ahead of Manchester City towards the end of last season’s Barclays Premier League title race, United supporters found themselves central to their own worst nightmare. Steven Gerrard scored two penalties in Liverpool's comprehensive 3-0 win at their fierce rivals last season . Gerrard has scored more goals as an away player at Old Trafford than anyone else in Premier League history . ‘Choosing between City and Liverpool for the title was like being offered two different types of disease,’ reflected Barney Chilton, editor of the Red News fanzine on Friday. ‘It was surreal but you just had to choose one and ultimately you knew you just had to root for City. The thought of Liverpool winning the league was just unbearable. ‘When they messed it up and City won it, all the United fans I know just felt a huge sense of relief. How ridiculous is that?’ Chilton, of course, knows it is not ridiculous at all. As former United boss Sir Alex Ferguson used to remind us as his final seasons at the club coincided with City’s rise to prominence, United versus Liverpool ‘is our biggest game and always will be’. It was this concept, this fundamental part of the average United supporter’s make-up, that saw them standing in Manchester pubs next to City fans rooting for Chelsea as Steven Gerrard’s slip at Anfield began the unravelling of Liverpool’s challenge last April. Equally, it is this that sees United anticipating Sunday’s game with unexpected zeal. Despite their own modest form, United’s recent results have been good enough under Louis van Gaal to take them in to third place in the league. Liverpool, meanwhile, have the look of a side shorn of confidence and direction. On Friday, Rodgers — just months after almost pulling off one of the most remarkable title wins — found himself answering questions about his own suitability for the job. ‘Listen, command is lonely whenever you are at the top end, the leading edge of the game,’ said the Liverpool manager. ‘Football is very short-term. The people criticising me, those same people, maybe six or seven months ago, said I couldn’t do anything wrong. Robin van Persie (centre) scored both goals in United's 2-1 win at Southampton on Monday night . Van Persie (centre) has scored six goals in his last nine league meetings with Liverpool . The Premier League table, showing Manchester United in third and Liverpool ninth . ‘That is the way football works. You have to accept that as a manager and fight even harder.’ Like any great rivalry, fear plays its part. On Sunday, the travelling contingent from Merseyside may fear a backlash from a team embarrassed last April by the ease of Liverpool’s 3-0 win at Old Trafford. At that time, meanwhile, United’s support feared not only that Rodgers’ team would win one title but many more. ‘It was the inevitability of that defeat in April that hurt,’ recalled Chilton. ‘People were coming up to buy the fanzine afterwards and just shrugging their shoulders. They knew we would lose that day. ‘After all those years, it felt almost dirty to be worrying about Liverpool again. Really, you shouldn’t worry so much about another club but this is different. You can’t help it. ‘We had taken so long to overhaul Liverpool’s 18 titles — and then get to 20 — that the thought of them coming back so soon, so unexpectedly, to win one and maybe more was too much.’ Nemanja Vidic (bottom) was sent off for United in this fixture last season for fouling Daniel Sturridge . Louis van Gaal runs the rule over his Manchester United squad in training on Thursday . In Liverpool, the pain of failure — if that’s what it was — was acute last season. That is perhaps nothing, however, compared to the trauma of seeing Rodger’s rebuilt team perform so lamely this time round. Tuesday’s failure to beat Basle and progress into the Champions League knockout stages has only increased scrutiny of the Liverpool manager. Currently, Liverpool are ninth, seven points behind United. Defeat on Sunday would leave Rodgers with a point fewer than Roy Hodgson had at this stage in the 2010-11 season. Hodgson was sacked a month later. On Sunday, the identity of the two managers certainly brings some extra intrigue to proceedings. Liverpool wanted to install Van Gaal as director of football before appointing Rodgers in the summer of 2012 only for the Irishman to object. Meanwhile, Rodgers suggested when United and Liverpool met during pre-season in Miami that Van Gaal may be ‘surprised’ by the Premier League, words that have subsequently sounded a little foolish. Brendan Rodgers was doing the same with his squad on Friday at Liverpool's Melwood training ground . Gerrard on his haunches after Liverpool were knocked out of the Champions League on Tuesday night . At Carrington on Friday, Van Gaal was diplomatic about that. ‘Maybe, he was right,’ said the United manager. ‘The Premier League is not so easy and I knew that in advance. The last matches of Liverpool they were a little bit unlucky. But you have to survive that as a manager.’ Van Gaal knows about big rivalries, having twice worked at Barcelona, and spoke on Friday like a man who believes he will enjoy Sunday’s experience. ‘I managed the team in front of 102,000 at Real Madrid and we won 3-0,’ he smiled. If Liverpool are to get a result tomorrow then captain Gerrard will perhaps need to be fundamental to it. He will, of course, be reminded by United fans of his part in last season’s title denouement. There will be no sympathy. United, including former Barcelona keeper Victor Valdes (left) are put through their paces at Carrington . Van Persie (left) and Wayne Rooney will be the main threats for United at Old Trafford on Sunday . ‘Most reds knows that he is their Robbo (Bryan Robson),’ said Chilton. ‘There is probably some respect there. But he has kissed the TV cameras when he has scored at Old Trafford. He has done his bit, too. ‘He fell over last season and Liverpool blew the title. He will be reminded of that. That’s football. To us, last season is like that moment in Dallas when Bobby Ewing appeared out of the shower when people thought he was dead. ‘It’s like a bad dream, as if it never actually happened.’\""
      ]
     },
     "execution_count": 6,
     "metadata": {},
     "output_type": "execute_result"
    }
   ],
   "source": [
    "np.random.choice(train_articles)"
   ]
  },
  {
   "cell_type": "code",
   "execution_count": 7,
   "metadata": {},
   "outputs": [
    {
     "data": {
      "text/plain": [
       "\"It's becoming as regular as clockwork at Arsenal: a Theo Walcott contract saga. Just over two years after signing a £90,000-per-week deal, the winger's future is again in the spotlight. As Arsene Wenger so jovially put it last week, contact has been made with 'the embassy' (Walcott's representatives) about a contract extension. Arsenal forward Theo Walcott comes on from the bench against Monaco, is now not a guaranteed starter . But just like two years ago, there are no guarantees Walcott will commit. Perhaps, even more so this time. Ever since recovering from a serious knee injury that kept him out for the majority of last year, Walcott has been on the peripheries. Walcott was flying before injuring his anterior cruciate ligament against Tottenham last January. He'd established himself as an integral member of Wenger's first-team plans. Walcott sprints away in celebration having scored against Leicester during the 2-1 victory last month . Theo Walcott wants a significant pay rise if he is to sign a new Arsenal contract . Since then, though, the landscape at Arsenal has changed. Alexis Sanchez has arrived, so to has Danny Welbeck. Walcott is no longer indispensable. In addition to Sanchez and Welbeck, there is Santi Cazorla and Alex Oxlade-Chamberlain to contend with. Walcott no longer walks into this team. So, with that in mind, does he warrant a pay-rise? That's the question Arsenal's moneymen will be asking themselves over the coming weeks. Because that's what he wants; a hefty hike on his current £4.6million-per-year deal. Can you justify paying someone in excess of £100,000-per-week who isn't a first-choice option for the manager? The England international gestures at Tottenham fans after injuring his anterior cruciate ligament last year . The Arsenal hierarchy are likely to argue not. And all that points to one thing: another Walcott contract row. You can understand where Walcott's representatives are coming from. At the age of 26, this could be his last big contract. His advisors have a duty to secure the best possible deal for their client. There will certainly be takers for Walcott if he leaves this summer. Liverpool and Manchester City are both monitoring the situation closely. The fact he has pace and is English (helping homegrown quotas) means he will be a valuable commodity if he's made available for transfer. Walcott has faced increased competition for a starting place in the Arsenal attack this season . As for Arsenal, they have four options. The first is to meet his demands, the second is to try to reach a compromise. The third is to let him enter the final year of his contract, which opens the door to Walcott leaving for nothing next year. Fourth is to sell him this summer. It's a game of poker. We're waiting to see who'll blink first. Walcott will be hoping to earn a similar amount to Gunners star man Alexis Sanchez on £140,000-per-week . Walcott looked certain to leave the Emirates Stadium in 2012 after rejecting a new contract. Wenger managed to persuade the speedster to stay and his subsequent performances led to the Gunners improving their offer, which was signed in January 2013. There will be a similar incentive for Walcott this time, too. But will he spend enough time on the pitch to make a similar impression? Things change. Maybe it's time for Walcott to make a change, too.\""
      ]
     },
     "execution_count": 7,
     "metadata": {},
     "output_type": "execute_result"
    }
   ],
   "source": [
    "np.random.choice(val_articles)"
   ]
  },
  {
   "cell_type": "code",
   "execution_count": 12,
   "metadata": {},
   "outputs": [
    {
     "data": {
      "image/png": "[encoded data removed]",
      "text/plain": [
       "<Figure size 640x480 with 1 Axes>"
      ]
     },
     "metadata": {},
     "output_type": "display_data"
    }
   ],
   "source": [
    "lengths_test_summaries = [len(summary) for summary in test_summaries]\n",
    "lengths_test_summaries\n",
    "\n",
    "import matplotlib.pyplot as plt\n",
    "\n",
    "# Sorting the lengths in ascending order\n",
    "sorted_lengths = sorted(lengths_test_summaries)\n",
    "\n",
    "# Plotting\n",
    "plt.plot(sorted_lengths)\n",
    "plt.title(\"Lengths of Test Summaries in Ascending Order\")\n",
    "plt.xlabel(\"Summary Number\")\n",
    "plt.ylabel(\"Length\")\n",
    "plt.show()\n"
   ]
  },
  {
   "cell_type": "code",
   "execution_count": 9,
   "metadata": {},
   "outputs": [
    {
     "name": "stdout",
     "output_type": "stream",
     "text": [
      "True\n",
      "cuda\n"
     ]
    }
   ],
   "source": [
    "import torch\n",
    "print(torch.cuda.is_available())\n",
    "\n",
    "device = torch.device(\"cuda\" if torch.cuda.is_available() else \"cpu\")\n",
    "print(device)"
   ]
  },
  {
   "cell_type": "code",
   "execution_count": 8,
   "metadata": {},
   "outputs": [
    {
     "name": "stderr",
     "output_type": "stream",
     "text": [
      "2023-11-27 20:00:36,031 - INFO - Initializing tokenization vocabulary with method: wordpiece.\n"
     ]
    },
    {
     "name": "stderr",
     "output_type": "stream",
     "text": [
      "2023-11-27 20:00:36,428 - INFO - WordPiece tokenizer initialized with custom special tokens.\n",
      "/home/timoh/L90-Summarization/summarizer_venv/lib/python3.10/site-packages/torch/nn/modules/transformer.py:282: UserWarning: enable_nested_tensor is True, but self.use_nested_tensor is False because encoder_layer.self_attn.batch_first was not True(use batch_first for better inference performance)\n",
      "  warnings.warn(f\"enable_nested_tensor is True, but self.use_nested_tensor is False because {why_not_sparsity_fast_path}\")\n"
     ]
    }
   ],
   "source": [
    "model = AbstractiveSummarizer(\n",
    "    hparams['d_model'], \n",
    "    hparams['nhead'], \n",
    "    hparams['d_hid'], \n",
    "    hparams['nlayers'], \n",
    "    hparams['dropout'],\n",
    "    hparams['tokenizer'],\n",
    ").to(device)\n"
   ]
  },
  {
   "cell_type": "code",
   "execution_count": 9,
   "metadata": {},
   "outputs": [],
   "source": [
    "from torch.utils.data import DataLoader"
   ]
  },
  {
   "cell_type": "code",
   "execution_count": 10,
   "metadata": {},
   "outputs": [
    {
     "data": {
      "text/plain": [
       "\"Playing computer games such as Angry Birds teaches children important life skills including concentration, resilience and problem solving, an academic has said. Professor Angela Mcfarlane, an education expert who will become head of training body the College of Teachers next month, said many games were complex and required deep learning and lateral thinking to solve them. Prof Mcfarlane said she herself had become 'hooked' on the Lemmings computer game, as well as Angry Birds, and said such games could have a place in the classroom provided they were used under supervision. Professor Angela Mcfarlane says computer games like Angry Birds can teach children valuable life-skills . Expert: Prof Mcfarlane says the games can help children learn problem solving, resilience and concentration . She said: 'There are many computer games that require quite deep learning to master the games. 'Some of that learning applies beyond games to wider life, such as concentration, problem solving, and resilience - important life skills. 'Anyone who has tried to play complex video games will know they are difficult.' Speaking to The Times, Prof Mcfarlane said she had developed an obsession with both Angry Birds and a precursor, Lemmings, because they had made her think and get her strategy right. The education expert, who has advised the government on educational technology, and who is currently writing a book, Authentic Learning for the Digital Generation, said computer games could be used in the classroom to good effect provided it was done properly. Prof Mcfarlane said even pre-school children could benefit from games, as long as they were supervised and not just given a phone to play with to keep them quiet. Prof Mcfarlane said she herself had become 'hooked' on a computer game called Lemmings, pictured . She said some games could teach children fine motor control, or help with vocabulary or simple maths, and taught skills such as resilience that could be applicable to real life. Next month Prof Mcfarlane, who began her career as a secondary school teacher and head of department, will become chief executive and registrar of the College of Teachers, which offers professional training to teachers and support staff.\""
      ]
     },
     "execution_count": 10,
     "metadata": {},
     "output_type": "execute_result"
    }
   ],
   "source": [
    "train_articles[0]"
   ]
  },
  {
   "cell_type": "code",
   "execution_count": 11,
   "metadata": {},
   "outputs": [
    {
     "data": {
      "text/plain": [
       "\"Professor Angela Mcfarlane is an education expert and former teacher .\\nShe says complex computer games require concentration and resilience .\\nThe former government adviser says they also teach problem-solving .\\nProf Mcfarlane says she herself has been 'hooked' on Lemmings game .\\nThe academic is to become head of the College of Teachers next month .\\nShe is currently writing a book on education for the 'digital generation'\""
      ]
     },
     "execution_count": 11,
     "metadata": {},
     "output_type": "execute_result"
    }
   ],
   "source": [
    "train_summaries[0]"
   ]
  },
  {
   "cell_type": "code",
   "execution_count": 12,
   "metadata": {},
   "outputs": [
    {
     "name": "stderr",
     "output_type": "stream",
     "text": [
      "2023-11-27 20:00:38,770 - INFO - Tokenizing and converting text to indices using WordPiece in batches.\n"
     ]
    }
   ],
   "source": [
    "train_dataloader = model.preprocess(train_articles[:20], train_summaries[:20], hparams['d_model'], hparams['batch_size'])"
   ]
  },
  {
   "cell_type": "code",
   "execution_count": 6,
   "metadata": {},
   "outputs": [
    {
     "data": {
      "text/plain": [
       "\"The mother and daughter who survived a tragic car accident this week, which saw three children die, have been reunited. Aluel Manyang was\\xa0moved from the intensive care unit at the Royal Children's about 5.15pm on Friday, and greeted her distraught mother, Akon Goode, with a 'big hug', her father said. 'She didn't believe that her mum was still alive,' Joseph Manyang said, according to the Herald Sun. Scroll down for videos . Aueel Manyang, pictured here as a baby with her mother Akon Guode,\\xa0believes her three siblings who died in the crash at a Melbourne lake were eaten by crocodiles in the water . Ms Guode visited her daughter for the first time but did not stay the night in the hospital. Mr Manyang said his daughter was expected to make a '100 per cent' recovery and she should be allowed to go home within four days. The five-year-old girl who survived when a car driven by her mother plunged into a lake believes her three siblings who died in the crash were eaten by crocodiles. Aluel Manyang believes her younger sister and two brothers died when they were taken by a crocodile because the children associate the giant reptiles with water. Her siblings -\\xa0one-year-old brother Bol and\\xa0four-year-old twins Madit and Anger - died after their mother Akon Guode crashed\\xa0her 4WD into a lake at Wyndham Vale in Melbourne's outer west on Wednesday. The crash on Wednesday killed four-year-old twins Madit and Anger (pictured) and their one-year-old brother Bol when the 4WD plunged into a lake . The children's father, Joseph Tito Manyang, says five-year-old Awel remains in a serious condition at the Royal Children's Hospital but she remembers the accident. 'Always when they see water they think of crocodiles, so that's what she said. She said they'd fallen into the water and there were crocodiles eating my younger brothers and sister,' Mr Manyang said. 'I went to see her yesterday and she was happy to see me. She knew me when I asked: 'Do you know me?' She said, 'Yeah, you're Daddy'.' Mr Manyang's partner and mother of the children, Akon Guode, was released from police custody on Thursday night after homicide detectives questioned her over the crash. She told him she was feeling 'very dizzy' before the accident\\xa0and remembers her children crying out. One-year-old Bol (left) and four-year-old twins Madit and Anger (right) all died after the 4WD they were in crashed into a lake at Wyndham Vale in Melbourne's outer west just before 4pm on Wednesday . Ms Guode has been sent to stay with a relative after portraits of the deceased children and memories of them running around the family home became too much. 'She's very shocked,' Mr Manyang said. 'She was crying every 10 minutes. She remembers everything at home and how the kids were walking around and playing.' Mr Manyang says his partner told him she 'didn't feel herself' as she was driving and can only remember parts of the aftermath of the crash,\\xa0The Age\\xa0reports. But she does recall being in the water and hearing her surviving five-year-old daughter Awel saying 'Mama, the children are falling under the water'. Mr Manyang was struggling with the news his three young children had died. 'The feeling is very hard for me,' he said. 'My kids, they were very good ... always, they were happy. Especially the twins. It is a big shock to me to get this information.' He revealed Ms Guode called him at 2.16pm on Wednesday afternoon but by the time he returned the call there was no answer. 'Bol, is still shy, is one year and a half, always we play together, that's what has happened, but it is a big shock for me to get this information. It has happened to me, to lose three children at once,' he told SBS radio. The children's father, Joseph Tito Manyang (second from right), was hugged by a mourner at the crash site\\xa0at Wyndham Vale in Melbourne's outer west . It comes as Mr Manyang defended the children's mother earlier on Thursday saying he didn't believe she caused the crash deliberately and said she was extremely distressed. 'She is a very good mother,' he told the Herald Sun. 'She loved the kids. She took care of the kids. I don't think she planned to do anything. 'I'm still believing she's innocent. 'My message to the community - because there is a lot of talking around, there is untruths - what I can tell them is they have to wait for the report from the police investigation, that will be the truth.' He  made an emotional visit to the crash site on Thursday where floral tributes were starting to build up from the Sudanese community who knew the family and from strangers. Ms Guode, who is the mother of seven children, came to Melbourne from South Sudan to escape war after her first husband died. The children's mother, Akorn Manang, was behind the wheel of grey 2005 Toyota Kluger when it plunged into the lake on Manor Lakes Boulevard . Police have retrieved the four-wheel-drive after it was plunged into the Wyndham Vale on Wednesday . Mourners pray at a makeshift shrine at the scene where a 4WD was submerged in Lake Gladman . Mr Manyang's 16-year-old niece, Amani Alier, said the family were trying to console him following the devastating news. 'He's shattered, he couldn't stop crying, his nose was bleeding,' she said. 'He just dropped when he saw a picture of his son on the wall. It's so hard for him to deal with. He loved those kids.' It follows as the four-wheel-drive was removed from the lake on Thursday afternoon. Thomas Kok, the cousin of the children's father, who spent the night at the children's hospital with Awel, visited the crash site on Thursday morning to pay tribute to the children. 'It's a shock for everyone,' Mr Kok said, according to the Herald Sun.\\xa0'We spent all night at hospital until 3 in the morning.' It comes as the tight-knit Sudanese community and nearby residents started leaving floral tributes for the three children. 'As soon as I saw the community coming towards this scene where the incident's happened, it's making me feel like people care,' Mr Kok said. The tight-knit Sudanese community and nearby residents started leaving floral tributes for the three children . The 2005 Toyota Kluger is expected to be removed from the lake late on Thursday morning . The family with seven children moved from South Sudan to Australia in 2008 . Thomas Kok, the cousin of the children's father, who spent the night at the children's hospital with Awel, visited the crash site on Thursday morning to pay tribute to the children . Police have confirmed the mother is assisting the homicide squad with their investigation as they appealed for members of the Sudanese community to come forward if they knew anything about what was going on in the family's life. 'We need to understand what led to this, we need to understand the background of this family, we need to understand what was happening in their lives,' Superintendent Stuart Bateson said. 'Hopefully this will lead to a greater understanding of what led to this incident. We appeal especially to the Sudanese community who might know what was happening in this family's life, what their movements were before this tragedy.' A witness Michelle relived the tragic moment the car ploughed into the lake on Thursday morning. 'It is still in my mind now, every time you close your eyes you just see someone so little,' she told Nine News in tears. 'My heart goes out to the family and to everybody who witnessed it. 'Those rescuers, those workers, when it was winding down it was just devastating seeing them sitting in the gutter.' Michelle told 3AW late on Wednesday that her friend Travis rescued one of the young boys from the vehicle. 'Travis jumped into the water and smashed the back windscreen and got one little boy out. (Emergency workers) then started working on the child,' she said. 'I only saw three get taken out. I believe they were travelling down the boulevard...and they've just gone over and into the lake.' Emotions were still raw on Thursday morning for neighbour Michelle who witnessed the grey 2005 Toyota Kluger plunging into the lake on Manor Lakes Boulevard . The search and rescue team remained at the scene to try and pull the car from the water, which is reportedly about 20 to 30 metres from shore . Locals are shocked as to how the car was able to get into the centre of the lake as it is 'pretty far from the road' Detective from the Homicide Squad and the Major Collision Investigation Unit have spoken to some witnesses but they are appealing for anyone with information to come forward. It is not yet know if it was a deliberate act or an accident, according to police. It's believed the grey 2005 Toyota Kluger 4WD was travelling towards Pedder St and Minindee Road when the incident occurred. Police particularly wish to speak to anyone who saw the car between 3.30 and 3.45pm. Witnesses or anyone with further information about the incident should contact Crime Stoppers on 1800 333 000. A mini shrine for the three young children grew on Thursday as families visited the area to pay their respects . Two young girls carried flowers to the lake where three three died when the car they were in crashed . Victoria police said that the exact circumstances of how the car went into the lake are yet to be determined . A resident named Michelle told 3AW that her neighbour broke open the back windscreen of the 4WD to save the children . Victoria Ambulance said the children were taken to The Royal Children's hospital via air ambulance . Further tests will be conducted in order to determine whether the car had any mechanical defects .\""
      ]
     },
     "execution_count": 6,
     "metadata": {},
     "output_type": "execute_result"
    }
   ],
   "source": [
    "test_articles[0]"
   ]
  },
  {
   "cell_type": "code",
   "execution_count": 10,
   "metadata": {},
   "outputs": [],
   "source": [
    "import torch\n",
    "\n",
    "from models.classes import PositionalEncoding, TokenEmbedding, Seq2SeqTransformer"
   ]
  },
  {
   "cell_type": "code",
   "execution_count": 11,
   "metadata": {},
   "outputs": [],
   "source": [
    "model = torch.load(\"models/30_epoch_half_dataset.pt\")"
   ]
  },
  {
   "cell_type": "code",
   "execution_count": 15,
   "metadata": {},
   "outputs": [
    {
     "ename": "NameError",
     "evalue": "name 'Iterable' is not defined",
     "output_type": "error",
     "traceback": [
      "\u001b[0;31m---------------------------------------------------------------------------\u001b[0m",
      "\u001b[0;31mNameError\u001b[0m                                 Traceback (most recent call last)",
      "\u001b[1;32m/home/timoh/L90-Summarization/testing_lab3.ipynb Cell 17\u001b[0m line \u001b[0;36m9\n\u001b[1;32m      <a href='vscode-notebook-cell://wsl%2Bubuntu-22.04/home/timoh/L90-Summarization/testing_lab3.ipynb#X41sdnNjb2RlLXJlbW90ZQ%3D%3D?line=4'>5</a>\u001b[0m UNK_IDX, PAD_IDX, BOS_IDX, EOS_IDX \u001b[39m=\u001b[39m \u001b[39m0\u001b[39m, \u001b[39m1\u001b[39m, \u001b[39m2\u001b[39m, \u001b[39m3\u001b[39m\n\u001b[1;32m      <a href='vscode-notebook-cell://wsl%2Bubuntu-22.04/home/timoh/L90-Summarization/testing_lab3.ipynb#X41sdnNjb2RlLXJlbW90ZQ%3D%3D?line=6'>7</a>\u001b[0m token_transform \u001b[39m=\u001b[39m get_tokenizer(\u001b[39m'\u001b[39m\u001b[39mspacy\u001b[39m\u001b[39m'\u001b[39m, language\u001b[39m=\u001b[39m\u001b[39m'\u001b[39m\u001b[39men_core_web_sm\u001b[39m\u001b[39m'\u001b[39m)\n\u001b[0;32m----> <a href='vscode-notebook-cell://wsl%2Bubuntu-22.04/home/timoh/L90-Summarization/testing_lab3.ipynb#X41sdnNjb2RlLXJlbW90ZQ%3D%3D?line=8'>9</a>\u001b[0m \u001b[39mdef\u001b[39;00m \u001b[39myield_tokens\u001b[39m(data_iter: Iterable) \u001b[39m-\u001b[39m\u001b[39m>\u001b[39m List[\u001b[39mstr\u001b[39m]:\n\u001b[1;32m     <a href='vscode-notebook-cell://wsl%2Bubuntu-22.04/home/timoh/L90-Summarization/testing_lab3.ipynb#X41sdnNjb2RlLXJlbW90ZQ%3D%3D?line=9'>10</a>\u001b[0m     \u001b[39mfor\u001b[39;00m data_sample \u001b[39min\u001b[39;00m data_iter:\n\u001b[1;32m     <a href='vscode-notebook-cell://wsl%2Bubuntu-22.04/home/timoh/L90-Summarization/testing_lab3.ipynb#X41sdnNjb2RlLXJlbW90ZQ%3D%3D?line=10'>11</a>\u001b[0m         \u001b[39myield\u001b[39;00m token_transform(data_sample)\n",
      "\u001b[0;31mNameError\u001b[0m: name 'Iterable' is not defined"
     ]
    }
   ],
   "source": [
    "from torchtext.data.utils import get_tokenizer\n",
    "from torchtext.vocab import build_vocab_from_iterator\n",
    "\n",
    "# Define special symbols and indices\n",
    "UNK_IDX, PAD_IDX, BOS_IDX, EOS_IDX = 0, 1, 2, 3\n",
    "\n",
    "token_transform = get_tokenizer('spacy', language='en_core_web_sm')\n",
    "\n",
    "def yield_tokens(data_iter: Iterable) -> List[str]:\n",
    "    for data_sample in data_iter:\n",
    "        yield token_transform(data_sample)\n",
    "\n",
    "# Create torchtext's Vocab object for English\n",
    "special_symbols = ['<unk>', '<pad>', '<bos>', '<eos>']\n",
    "vocab_transform = build_vocab_from_iterator(yield_tokens(train_articles),\n",
    "                                            min_freq=1,\n",
    "                                            specials=special_symbols,\n",
    "                                            special_first=True)\n",
    "\n",
    "vocab_transform.set_default_index(UNK_IDX)"
   ]
  },
  {
   "cell_type": "code",
   "execution_count": null,
   "metadata": {},
   "outputs": [],
   "source": [
    "type(token_transform)"
   ]
  },
  {
   "cell_type": "code",
   "execution_count": 14,
   "metadata": {},
   "outputs": [],
   "source": [
    "DEVICE = torch.device('cuda' if torch.cuda.is_available() else 'cpu')\n",
    "UNK_IDX, PAD_IDX, BOS_IDX, EOS_IDX = 0, 1, 2, 3\n",
    "\n",
    "def generate_square_subsequent_mask(sz):\n",
    "    mask = (torch.triu(torch.ones((sz, sz), device=DEVICE)) == 1).transpose(0, 1)\n",
    "    mask = mask.float().masked_fill(mask == 0, float('-inf')).masked_fill(mask == 1, float(0.0))\n",
    "    return mask\n",
    "\n",
    "\n",
    "def create_mask(src, tgt):\n",
    "    src_seq_len = src.shape[0]\n",
    "    tgt_seq_len = tgt.shape[0]\n",
    "\n",
    "    tgt_mask = generate_square_subsequent_mask(tgt_seq_len)\n",
    "    src_mask = torch.zeros((src_seq_len, src_seq_len),device=DEVICE).type(torch.bool)\n",
    "\n",
    "    src_padding_mask = (src == PAD_IDX).transpose(0, 1)\n",
    "    tgt_padding_mask = (tgt == PAD_IDX).transpose(0, 1)\n",
    "    return src_mask, tgt_mask, src_padding_mask, tgt_padding_mask\n",
    "\n",
    "# function to generate output sequence using greedy algorithm\n",
    "def greedy_decode(model, src, src_mask, max_len, start_symbol):\n",
    "\n",
    "    memory = model.encode(src, src_mask)\n",
    "    ys = torch.ones(1, 1).fill_(start_symbol).type(torch.long).to(DEVICE)\n",
    "    for i in range(max_len-1):\n",
    "        memory = memory.to(DEVICE)\n",
    "        tgt_mask = (generate_square_subsequent_mask(ys.size(0))\n",
    "                    .type(torch.bool)).to(DEVICE)\n",
    "        out = model.decode(ys, memory, tgt_mask)\n",
    "        out = out.transpose(0, 1)\n",
    "        prob = model.generator(out[:, -1])\n",
    "        _, next_word = torch.max(prob, dim=1)\n",
    "        next_word = next_word.item()\n",
    "\n",
    "        ys = torch.cat([ys,\n",
    "                        torch.ones(1, 1).type_as(src.data).fill_(next_word)], dim=0)\n",
    "        if next_word == EOS_IDX:\n",
    "            break\n",
    "    return ys\n",
    "\n",
    "\n",
    "def beam_search_decode(model, src, src_mask, max_len, start_symbol, beam_size):\n",
    "    # Initialize the beam with the start symbol and an initial score\n",
    "    initial_beam = (torch.tensor([start_symbol]), 0.0)  # (sequence, score)\n",
    "    beams = [initial_beam]\n",
    "\n",
    "    for _ in range(max_len):\n",
    "        new_beams = []\n",
    "        for beam in beams:\n",
    "            # Expand the current beam\n",
    "            seq, score = beam\n",
    "            if seq[-1] == EOS_IDX:\n",
    "                # If the sequence is finished, pass it through\n",
    "                new_beams.append(beam)\n",
    "                continue\n",
    "\n",
    "            # Get probabilities of next words\n",
    "            # This part depends on your model architecture and may need modification\n",
    "            prob = get_prob_from_model(model, seq, src, src_mask)\n",
    "            \n",
    "            # Choose top `beam_size` continuations\n",
    "            topk_prob, topk_indices = torch.topk(prob, beam_size)\n",
    "\n",
    "            for prob, word_idx in zip(topk_prob, topk_indices):\n",
    "                new_seq = torch.cat([seq, word_idx.view(1)])\n",
    "                new_score = score + torch.log(prob)\n",
    "                new_beams.append((new_seq, new_score))\n",
    "\n",
    "        # Sort all new beams and select the top `beam_size`\n",
    "        beams = sorted(new_beams, key=lambda x: x[1], reverse=True)[:beam_size]\n",
    "\n",
    "    # Choose the sequence with the highest score\n",
    "    best_seq, _ = max(beams, key=lambda x: x[1])\n",
    "    return best_seq\n",
    "\n",
    "\n",
    "def get_prob_from_model(model, seq, src, src_mask):\n",
    "    # Ensure the model is in evaluation mode, which turns off layers like dropout\n",
    "    model.eval()\n",
    "\n",
    "    # Encode the source sentence\n",
    "    memory = model.encode(src, src_mask)\n",
    "    # Add batch dimension to sequence for compatibility with the model\n",
    "    seq = seq.unsqueeze(1)\n",
    "\n",
    "    # Create a target mask for the sequence\n",
    "    tgt_mask = generate_square_subsequent_mask(seq.size(0)).to(DEVICE)\n",
    "\n",
    "    # Decode the sequence\n",
    "    output = model.decode(seq, memory, tgt_mask)\n",
    "\n",
    "    # Convert the output to probabilities using the generator\n",
    "    prob = model.generator(output[-1])\n",
    "\n",
    "    return torch.softmax(prob, dim=-1).squeeze(0)\n",
    "\n",
    "\n",
    "# actual function summarize a piece of text\n",
    "def summarize(model: torch.nn.Module, src_sentence: str, decoding_method: str = 'greedy'):\n",
    "    model.eval()\n",
    "    src = text_transform(src_sentence).view(-1, 1)\n",
    "    num_tokens = src.shape[0]\n",
    "    src_mask = (torch.zeros(num_tokens, num_tokens)).type(torch.bool)\n",
    "    max_len = 50\n",
    "\n",
    "    src = src.to(DEVICE)\n",
    "    src_mask = src_mask.to(DEVICE)\n",
    "\n",
    "    if decoding_method == 'greedy':\n",
    "        tgt_tokens = greedy_decode(model, src, src_mask, max_len, start_symbol=BOS_IDX)\n",
    "\n",
    "\n",
    "    elif decoding_method == 'beam_search':\n",
    "        beam_size = 5\n",
    "        # Assuming beam_size is defined or passed as an argument\n",
    "        tgt_tokens = beam_search_decode(\n",
    "            model, \n",
    "            src, \n",
    "            src_mask, \n",
    "            max_len, \n",
    "            start_symbol=BOS_IDX, \n",
    "            beam_size=beam_size\n",
    "        )\n",
    "\n",
    "    else:\n",
    "        raise ValueError(\"Invalid decoding method. Choose 'greedy' or 'beam_search'.\")\n",
    "\n",
    "    tgt_tokens = tgt_tokens.flatten()\n",
    "    outputted_text = vocab_transform.lookup_tokens(list(tgt_tokens.cpu().numpy()))\n",
    "    return \" \".join(outputted_text).replace(\"<bos>\", \"\").replace(\"<eos>\", \"\")"
   ]
  },
  {
   "cell_type": "code",
   "execution_count": null,
   "metadata": {},
   "outputs": [],
   "source": [
    "article = \"\"\"\n",
    "Playing computer games such as Angry Birds teaches children important life skills including concentration, resilience and problem solving, an academic has said. Professor Angela Mcfarlane, an education expert who will become head of training body the College of Teachers next month, said many games were complex and required deep learning and lateral thinking to solve them. Prof Mcfarlane said she herself had become 'hooked' on the Lemmings computer game, as well as Angry Birds, and said such games could have a place in the classroom provided they were used under supervision. Professor Angela Mcfarlane says computer games like Angry Birds can teach children valuable life-skills . Expert: Prof Mcfarlane says the games can help children learn problem solving, resilience and concentration . She said: 'There are many computer games that require quite deep learning to master the games. 'Some of that learning applies beyond games to wider life, such as concentration, problem solving, and resilience - important life skills. 'Anyone who has tried to play complex video games will know they are difficult.' Speaking to The Times, Prof Mcfarlane said she had developed an obsession with both Angry Birds and a precursor, Lemmings, because they had made her think and get her strategy right. The education expert, who has advised the government on educational technology, and who is currently writing a book, Authentic Learning for the Digital Generation, said computer games could be used in the classroom to good effect provided it was done properly. Prof Mcfarlane said even pre-school children could benefit from games, as long as they were supervised and not just given a phone to play with to keep them quiet. Prof Mcfarlane said she herself had become 'hooked' on a computer game called Lemmings, pictured . She said some games could teach children fine motor control, or help with vocabulary or simple maths, and taught skills such as resilience that could be applicable to real life. Next month Prof Mcfarlane, who began her career as a secondary school teacher and head of department, will become chief executive and registrar of the College of Teachers, which offers professional training to teachers and support staff.\n",
    "\"\"\"\n",
    "\n",
    "summarize(transformer, article, decoding_method='beam_search')"
   ]
  }
 ],
 "metadata": {
  "kernelspec": {
   "display_name": "summarizer_venv",
   "language": "python",
   "name": "python3"
  },
  "language_info": {
   "codemirror_mode": {
    "name": "ipython",
    "version": 3
   },
   "file_extension": ".py",
   "mimetype": "text/x-python",
   "name": "python",
   "nbconvert_exporter": "python",
   "pygments_lexer": "ipython3",
   "version": "3.10.12"
  }
 },
 "nbformat": 4,
 "nbformat_minor": 2
}
